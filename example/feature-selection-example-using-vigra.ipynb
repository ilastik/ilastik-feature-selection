{
 "cells": [
  {
   "cell_type": "markdown",
   "id": "9ba47846",
   "metadata": {},
   "source": [
    "# Example using ilastik-feature-selection using vigra RF\n",
    "\n",
    "This notebook demonstrates how to use `ilastik-feature-selection`.\n",
    "It is more or less the same as the one using the sklearn random forest, but kept separate as not to confuse users with the peculiarities of vigra."
   ]
  },
  {
   "cell_type": "code",
   "execution_count": null,
   "id": "ffa4c02b",
   "metadata": {},
   "outputs": [],
   "source": [
    "import ilastik_feature_selection\n",
    "import seaborn as sns\n",
    "import sklearn.ensemble\n",
    "from sklearn.model_selection import train_test_split\n",
    "from sklearn.metrics import confusion_matrix\n",
    "from sklearn.ensemble import RandomForestClassifier\n",
    "import pandas as pd\n",
    "import numpy as np\n",
    "from vigra.learning import RandomForest as VigraRF\n",
    "from sklearn.metrics import accuracy_score"
   ]
  },
  {
   "cell_type": "code",
   "execution_count": null,
   "id": "9473235f",
   "metadata": {},
   "outputs": [],
   "source": [
    "# load and visualize the dataset\n",
    "penguins = sns.load_dataset('penguins')\n",
    "penguins['species'] = penguins['species'].astype('category')\n",
    "# Drop two columns and the rows that have NaN values in them\n",
    "penguins_filtered = penguins.drop(columns=['island', 'sex']).dropna()\n",
    "\n",
    "# Extract columns corresponding to features\n",
    "penguins_features = penguins_filtered.drop(columns=['species'])\n",
    "# define targets\n",
    "targets = pd.factorize(penguins_filtered[\"species\"])[0]"
   ]
  },
  {
   "cell_type": "code",
   "execution_count": null,
   "id": "6111bd89",
   "metadata": {},
   "outputs": [],
   "source": [
    "# For vigra we need to fix some data types:\n",
    "penguins_features_np = penguins_features.to_numpy().astype(\"float32\")\n",
    "targets_np = targets.astype(\"uint32\")[..., np.newaxis]"
   ]
  },
  {
   "cell_type": "code",
   "execution_count": null,
   "id": "08a2c327",
   "metadata": {},
   "outputs": [],
   "source": [
    "X_train, X_test, y_train, y_test = train_test_split(\n",
    "    penguins_features_np, targets_np,test_size=0.2, random_state=0, shuffle=True, stratify=targets_np\n",
    ")"
   ]
  },
  {
   "cell_type": "code",
   "execution_count": null,
   "id": "8bfe66b4",
   "metadata": {},
   "outputs": [],
   "source": [
    "# add an extra class that exposes the same interface on a vigra RF as a sklearn RF\n",
    "class VigraSklearnRF(VigraRF):\n",
    "    \"\"\"\n",
    "    Adaptor class that exposes an interface more similar to sklearn.ensemble.RandomForestClassifier\n",
    "    which is expected in wrapper_selection.\n",
    "    \n",
    "    With this class the vigra RF is more or less a drop-in replacement.\n",
    "    \"\"\"\n",
    "    def __init__(self, *args, n_estimators=100, random_state=None, **kwargs):\n",
    "        super().__init__(*args, treeCount=n_estimators, **kwargs)\n",
    "        self._random_state = random_state\n",
    "\n",
    "    def fit(self, X, y):\n",
    "        self.learnRF(X, y, self._random_state if self._random_state else 0)\n",
    "        return self\n",
    "        \n",
    "    def score(self, X, y, sample_weight=None) -> float:\n",
    "        \"\"\"\n",
    "        evaluates X and returns mean accuracy wrt y\n",
    "        \"\"\"\n",
    "        return accuracy_score(y, self.predictLabels(X), sample_weight=sample_weight)\n",
    "    \n",
    "    def predict(self, X):\n",
    "        return self.predictLabels(X)"
   ]
  },
  {
   "cell_type": "code",
   "execution_count": null,
   "id": "7103c1c4",
   "metadata": {},
   "outputs": [],
   "source": [
    "# Train a random forest with the full set of four features\n",
    "rf_full = VigraSklearnRF(random_state=42, n_estimators=100)\n",
    "score_rf_full = rf_full.fit(X_train, y_train).score(X_test, y_test)\n",
    "print(\n",
    "    \"Random forest trained with all four features achieves an accuracy of \"\n",
    "    f\"{score_rf_full:.3f} on the test set.\"\n",
    ")"
   ]
  },
  {
   "cell_type": "markdown",
   "id": "8b834ce8",
   "metadata": {},
   "source": [
    "## Run the feature selection to reduce the feature set\n",
    "### Wrapper method feature selection"
   ]
  },
  {
   "cell_type": "code",
   "execution_count": null,
   "id": "dd8ec3f1",
   "metadata": {},
   "outputs": [],
   "source": [
    "# prepare and run the feature selection\n",
    "size_penalty = 0.2 # higher values result in less features, lower values will result in more features\n",
    "classifier = VigraSklearnRF(random_state=42, n_estimators=100)\n",
    "evaluation_function = ilastik_feature_selection.wrapper_feature_selection.EvaluationFunction(\n",
    "    classifier,\n",
    "    complexity_penalty=size_penalty)\n",
    "feat_selector = ilastik_feature_selection.wrapper_feature_selection.WrapperFeatureSelection(\n",
    "    X_train, y_train, evaluation_function.evaluate_feature_set_size_penalty, method=\"BFS\")\n",
    "result = feat_selector.run(do_advanced_search=True)\n",
    "print(f\"selected feature indices {result[0]}\")"
   ]
  },
  {
   "cell_type": "code",
   "execution_count": null,
   "id": "0962920a",
   "metadata": {},
   "outputs": [],
   "source": [
    "# train and evaluate random forest with reduced feature set\n",
    "rf_wrapper = VigraSklearnRF(random_state=42, n_estimators=100)\n",
    "score_rf_wrapper = rf_wrapper.fit(X_train[:, result[0]], y_train).score(X_test[:, result[0]], y_test)\n",
    "print(\n",
    "    \"Random forest trained features from wrapper selection method achieves an accuracy \"\n",
    "    f\"of {score_rf_wrapper:.3f} on the test set.\"\n",
    ")"
   ]
  }
 ],
 "metadata": {
  "kernelspec": {
   "display_name": "Python 3 (ipykernel)",
   "language": "python",
   "name": "python3"
  },
  "language_info": {
   "codemirror_mode": {
    "name": "ipython",
    "version": 3
   },
   "file_extension": ".py",
   "mimetype": "text/x-python",
   "name": "python",
   "nbconvert_exporter": "python",
   "pygments_lexer": "ipython3",
   "version": "3.11.0"
  }
 },
 "nbformat": 4,
 "nbformat_minor": 5
}
